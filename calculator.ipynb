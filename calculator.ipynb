{
 "cells": [
  {
   "cell_type": "code",
   "execution_count": null,
   "id": "a57b0b69",
   "metadata": {},
   "outputs": [],
   "source": [
    "# Python program to make a simple calculator\n",
    "\n",
    "# taking user input\n",
    "no1 = float(input(\"Enter first number: \"))\n",
    "no2 = float(input(\"Enter second number: \"))\n",
    "\n",
    "# choice operation\n",
    "print(\"Operation: +, -, *, /\")\n",
    "select = input(\"Select operations: \")\n",
    "\n",
    "# check operations and display result\n",
    "if select == \"+\":\n",
    "    print(no1, \"+\", no2, \"=\", no1+no2)\n",
    "\n",
    "elif select == \"-\":\n",
    "    print(no1, \"-\", no2, \"=\", no1-no2)\n",
    "\n",
    "elif select == \"*\":\n",
    "    print(no1, \"*\", no2, \"=\", no1*no2)\n",
    "\n",
    "elif select == \"/\":\n",
    "    print(no1, \"/\", no2, \"=\", no1/no2)\n",
    "\n",
    "else:\n",
    "    print(\"Invalid input\")"
   ]
  },
  {
   "cell_type": "code",
   "execution_count": null,
   "id": "5a7d1ec5",
   "metadata": {},
   "outputs": [],
   "source": []
  }
 ],
 "metadata": {
  "kernelspec": {
   "display_name": "Python 3",
   "language": "python",
   "name": "python3"
  }
 },
 "nbformat": 4,
 "nbformat_minor": 5
}
